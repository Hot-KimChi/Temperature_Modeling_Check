{
 "cells": [
  {
   "cell_type": "code",
   "execution_count": 1,
   "metadata": {},
   "outputs": [
    {
     "name": "stdout",
     "output_type": "stream",
     "text": [
      "['Convex' 'Phased' 'Curved' 'Linear' 'AcuNav_Phased']\n"
     ]
    }
   ],
   "source": [
    "import pandas as pd\n",
    "pd.options.mode.chained_assignment = None \n",
    "AOP_data = pd.read_csv('Raw_AOP_data.csv')\n",
    "\n",
    "def func_preprocess(AOP_data):\n",
    "    try:\n",
    "        ## 누락된 데이터 삭제\n",
    "        AOP_data = AOP_data.dropna(subset=['probeNumElements'])\n",
    "        \n",
    "        probeType = []\n",
    "        energy = []\n",
    "        \n",
    "        ## probeDescription에 데이터가 어떠한 것이 들어있는지 확인.\n",
    "        print(AOP_data['probeDescription'].unique())\n",
    "        \n",
    "        ## 온도데이터를 계산하기 위하여 새로운 parameter 생성 --> energy 영역 설정.\n",
    "        for probe_type, volt, cycle, element, prf, pitch, scanrange in zip(AOP_data['probeDescription'], AOP_data['pulseVoltage'], AOP_data['numTxCycles'], \n",
    "                                                                           AOP_data['numTxElements'], AOP_data['pulseRepetRate'], AOP_data['probePitchCm'],\n",
    "                                                                           AOP_data['scanRange']):\n",
    "            \n",
    "            ## New parameter add: energy(volt, cycle, element, prf, pitch, scanrange)\n",
    "            if scanrange == 0:\n",
    "                SR = 0.001\n",
    "            else:\n",
    "                SR = scanrange\n",
    "            ## array 생성(for문 돌려서 각 행마다 변환)\n",
    "            energy.append(volt * volt * cycle * element * prf * pitch / SR)\n",
    "            \n",
    "            \n",
    "            ## probe_type에 따른 데이터 정렬. \n",
    "            if probe_type == 'Linear': \n",
    "                Type = 'L'\n",
    "            elif probe_type == 'Curved':\n",
    "                Type = 'C'\n",
    "            elif probe_type == 'Convex':\n",
    "                Type = 'C'\n",
    "            elif probe_type == 'Phased':\n",
    "                Type = 'P'\n",
    "            elif probe_type == 'AcuNav_Phased':\n",
    "                Type = 'P'\n",
    "            ## array 생성(for문 돌려서 각 행마다 변환)\n",
    "            probeType.append(Type)\n",
    "        \n",
    "        ## array 데이터를 데이터프레임 parameter에 입력.\n",
    "        AOP_data['Energy'] = energy        \n",
    "        AOP_data['probeType'] = probeType\n",
    "        \n",
    "        \n",
    "        ## OneHotEncoder 사용 ==> probeType에 들어있는 데이터를 잘못 계산 혹은 의미있는 데이터로 변환하기 위하여.\n",
    "        from sklearn.preprocessing import OneHotEncoder\n",
    "        ohe = OneHotEncoder(sparse=False)\n",
    "        ## fit_transform은 train data에만 사용하고 test data에는 학습된 인코더에 fit만 진행.\n",
    "        ohe_probe = ohe.fit_transform(AOP_data[['probeType']])\n",
    "        \n",
    "        ## 데이터프레임 합치기 전에 index reset필요.\n",
    "        AOP_data.reset_index(drop=True, inplace=True)\n",
    "        ## sklearn.preprocessing.OneHotEncoder를 사용하여 변환된 결과는 numpy.array이기 때문에 이를 데이터프레임으로 변환하는 과정이 필요.\n",
    "        AOP_data = pd.concat([AOP_data.drop(columns=['probeType']), pd.DataFrame(ohe_probe, columns=['probeType_' + col for col in ohe.categories_[0]])], axis=1)\n",
    "        \n",
    "                \n",
    "        return(AOP_data)\n",
    "    \n",
    "    except:\n",
    "        print(\"Error: func_preprocess\")\n",
    "        \n",
    "\n",
    "if __name__ == '__main__':\n",
    "    func_preprocess(AOP_data=AOP_data)\n"
   ]
  }
 ],
 "metadata": {
  "kernelspec": {
   "display_name": "Python 3.7.9 64-bit",
   "language": "python",
   "name": "python3"
  },
  "language_info": {
   "codemirror_mode": {
    "name": "ipython",
    "version": 3
   },
   "file_extension": ".py",
   "mimetype": "text/x-python",
   "name": "python",
   "nbconvert_exporter": "python",
   "pygments_lexer": "ipython3",
   "version": "3.7.9 (tags/v3.7.9:13c94747c7, Aug 17 2020, 18:58:18) [MSC v.1900 64 bit (AMD64)]"
  },
  "orig_nbformat": 4,
  "vscode": {
   "interpreter": {
    "hash": "1f2ac25b4a6d870602abfa5d74e7d6f1ae274ba9e86645830384575c0e5c89f3"
   }
  }
 },
 "nbformat": 4,
 "nbformat_minor": 2
}

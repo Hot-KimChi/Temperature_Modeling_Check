{
 "cells": [
  {
   "cell_type": "code",
   "execution_count": 22,
   "metadata": {},
   "outputs": [
    {
     "name": "stdout",
     "output_type": "stream",
     "text": [
      "0 0 0\n"
     ]
    },
    {
     "ename": "UnboundLocalError",
     "evalue": "local variable 'Type' referenced before assignment",
     "output_type": "error",
     "traceback": [
      "\u001b[1;31m---------------------------------------------------------------------------\u001b[0m",
      "\u001b[1;31mUnboundLocalError\u001b[0m                         Traceback (most recent call last)",
      "\u001b[1;32m~\\AppData\\Local\\Temp\\ipykernel_34996\\2303785824.py\u001b[0m in \u001b[0;36m<module>\u001b[1;34m\u001b[0m\n\u001b[0;32m     44\u001b[0m \u001b[1;33m\u001b[0m\u001b[0m\n\u001b[0;32m     45\u001b[0m \u001b[1;32mif\u001b[0m \u001b[0m__name__\u001b[0m \u001b[1;33m==\u001b[0m \u001b[1;34m'__main__'\u001b[0m\u001b[1;33m:\u001b[0m\u001b[1;33m\u001b[0m\u001b[1;33m\u001b[0m\u001b[0m\n\u001b[1;32m---> 46\u001b[1;33m     \u001b[0mfunc_preprocess\u001b[0m\u001b[1;33m(\u001b[0m\u001b[0mAOP_data\u001b[0m\u001b[1;33m=\u001b[0m\u001b[0mAOP_data\u001b[0m\u001b[1;33m)\u001b[0m\u001b[1;33m\u001b[0m\u001b[1;33m\u001b[0m\u001b[0m\n\u001b[0m",
      "\u001b[1;32m~\\AppData\\Local\\Temp\\ipykernel_34996\\2303785824.py\u001b[0m in \u001b[0;36mfunc_preprocess\u001b[1;34m(AOP_data)\u001b[0m\n\u001b[0;32m     33\u001b[0m                 \u001b[0mType\u001b[0m \u001b[1;33m=\u001b[0m \u001b[1;34m'P'\u001b[0m\u001b[1;33m\u001b[0m\u001b[1;33m\u001b[0m\u001b[0m\n\u001b[0;32m     34\u001b[0m             \u001b[0mprint\u001b[0m\u001b[1;33m(\u001b[0m\u001b[0mi\u001b[0m\u001b[1;33m,\u001b[0m\u001b[0mj\u001b[0m\u001b[1;33m,\u001b[0m\u001b[0mk\u001b[0m\u001b[1;33m)\u001b[0m\u001b[1;33m\u001b[0m\u001b[1;33m\u001b[0m\u001b[0m\n\u001b[1;32m---> 35\u001b[1;33m             \u001b[0mprobeType\u001b[0m\u001b[1;33m.\u001b[0m\u001b[0mappend\u001b[0m\u001b[1;33m(\u001b[0m\u001b[0mType\u001b[0m\u001b[1;33m)\u001b[0m\u001b[1;33m\u001b[0m\u001b[1;33m\u001b[0m\u001b[0m\n\u001b[0m\u001b[0;32m     36\u001b[0m \u001b[1;33m\u001b[0m\u001b[0m\n\u001b[0;32m     37\u001b[0m         \u001b[0mAOP_data\u001b[0m\u001b[1;33m[\u001b[0m\u001b[1;34m'probeType'\u001b[0m\u001b[1;33m]\u001b[0m \u001b[1;33m=\u001b[0m \u001b[0mprobeType\u001b[0m\u001b[1;33m\u001b[0m\u001b[1;33m\u001b[0m\u001b[0m\n",
      "\u001b[1;31mUnboundLocalError\u001b[0m: local variable 'Type' referenced before assignment"
     ]
    }
   ],
   "source": [
    "import pandas as pd\n",
    "AOP_data = pd.read_csv('Raw_AOP_data.csv')\n",
    "\n",
    "def func_preprocess(AOP_data):\n",
    "    try:\n",
    "        probeType = []\n",
    "        energy = []\n",
    "        \n",
    "        i = 0\n",
    "        j = 0\n",
    "        k = 0 \n",
    "        ## 온도데이터를 계산하기 위하여 새로운 parameter 생성 --> energy 영역 설정.\n",
    "        for probe_type, volt, cycle, element, prf, pitch, scanrange in zip(AOP_data['probeDescription'], AOP_data['pulseVoltage'], AOP_data['numTxCycles'], \n",
    "                                                                           AOP_data['numTxElements'], AOP_data['pulseRepetRate'], AOP_data['probePitchCm'],\n",
    "                                                                           AOP_data['scanRange']):\n",
    "            \n",
    "            if scanrange == 0:\n",
    "                SR = 0.001\n",
    "            else:\n",
    "                SR = scanrange\n",
    "            energy.append(volt * volt * cycle * element * prf * pitch / SR)\n",
    "            \n",
    "          \n",
    "            if probe_type == \"Convex\" or \"Curved\":\n",
    "                \n",
    "                i += 1 \n",
    "                Type ='C'\n",
    "            elif probe_type == \"Linear\":\n",
    "                j += 1\n",
    "                Type = 'L'\n",
    "            elif probe_type == \"Phased\":\n",
    "                k += 1\n",
    "                Type = 'P'\n",
    "            print(i,j,k)\n",
    "            probeType.append(Type)\n",
    "        \n",
    "        AOP_data['probeType'] = probeType\n",
    "                \n",
    "        return(AOP_data)\n",
    "    \n",
    "    except():\n",
    "        print(\"Error: func_preprocess\")\n",
    "        \n",
    "\n",
    "if __name__ == '__main__':\n",
    "    func_preprocess(AOP_data=AOP_data)\n"
   ]
  }
 ],
 "metadata": {
  "kernelspec": {
   "display_name": "Python 3.7.9 64-bit",
   "language": "python",
   "name": "python3"
  },
  "language_info": {
   "codemirror_mode": {
    "name": "ipython",
    "version": 3
   },
   "file_extension": ".py",
   "mimetype": "text/x-python",
   "name": "python",
   "nbconvert_exporter": "python",
   "pygments_lexer": "ipython3",
   "version": "3.7.9"
  },
  "orig_nbformat": 4,
  "vscode": {
   "interpreter": {
    "hash": "1f2ac25b4a6d870602abfa5d74e7d6f1ae274ba9e86645830384575c0e5c89f3"
   }
  }
 },
 "nbformat": 4,
 "nbformat_minor": 2
}
